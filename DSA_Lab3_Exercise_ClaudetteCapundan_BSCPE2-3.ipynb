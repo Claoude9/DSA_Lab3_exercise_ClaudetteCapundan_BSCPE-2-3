{
 "cells": [
  {
   "cell_type": "markdown",
   "id": "409c78dc-b7dd-41ad-a3b9-7d5d133685db",
   "metadata": {},
   "source": [
    "Lab 3"
   ]
  },
  {
   "cell_type": "markdown",
   "id": "e097f5f2-0b97-4707-adfe-247cdb558713",
   "metadata": {},
   "source": [
    "Submitted by: Claudette P. Capundan      BSCPE 2-3"
   ]
  },
  {
   "attachments": {},
   "cell_type": "markdown",
   "id": "c433a728-b343-42bf-89ac-182aec7114c1",
   "metadata": {},
   "source": [
    "Lab 3 Exercise 1\n",
    "\n",
    "from a given list of integers, create a new list using comprehension that will compute the square of odd integer elements.\n",
    "\n",
    "Sample calls\n",
    "\n",
    "[2,4,3] == [9] [0,0,1,1] == [1,1]"
   ]
  },
  {
   "cell_type": "code",
   "execution_count": 1,
   "id": "1848be39-a02e-4dfb-8f86-e9bf199be2a0",
   "metadata": {},
   "outputs": [
    {
     "name": "stdin",
     "output_type": "stream",
     "text": [
      "Enter a list of integers separated by spaces:  1 2 3 4\n"
     ]
    },
    {
     "name": "stdout",
     "output_type": "stream",
     "text": [
      "\n",
      "Answer:\n",
      "[1, 9]\n"
     ]
    }
   ],
   "source": [
    "input_list = list(map(int, input(\"Enter a list of integers separated by spaces: \").split()))\n",
    "\n",
    "squared_odds = [x**2 for x in input_list if x % 2 != 0]\n",
    "\n",
    "print(\"\\nAnswer:\")\n",
    "print(squared_odds)\n"
   ]
  },
  {
   "cell_type": "markdown",
   "id": "a43e5b2c-02f6-4b5b-ba28-ea8bc1754510",
   "metadata": {},
   "source": [
    "Lab 3 Exercise 2\n",
    "\n",
    "Using comprehension, create a new list of tuples from two given lists:\n",
    "\n",
    "sample calls\n",
    "\n",
    "list1[1,2,3] list2[\"mark\", \"alice\",\"john\"]\n",
    "\n",
    "result: listOfTuple[(1,\"mark\"), (2, \"alice\"), (3, \"john\")]"
   ]
  },
  {
   "cell_type": "code",
   "execution_count": 2,
   "id": "f225493a-b7d8-4629-8533-da2047761c91",
   "metadata": {},
   "outputs": [
    {
     "name": "stdin",
     "output_type": "stream",
     "text": [
      "Enter a list of integers separated by spaces:  1 2 3 4 5\n",
      "\n",
      "Enter a list of names separated by spaces:  Alpha Beta Charlie Gamma Cassie\n"
     ]
    },
    {
     "name": "stdout",
     "output_type": "stream",
     "text": [
      "\n",
      "[(1, 'Alpha'), (2, 'Beta'), (3, 'Charlie'), (4, 'Gamma'), (5, 'Cassie')]\n"
     ]
    }
   ],
   "source": [
    "list1 = list(map(int, input(\"Enter a list of integers separated by spaces: \").split()))\n",
    "\n",
    "list2 = input(\"\\nEnter a list of names separated by spaces: \").split()\n",
    "\n",
    "list_of_tuples = [(list1[i], list2[i]) for i in range(min(len(list1), len(list2)))]\n",
    "\n",
    "print()\n",
    "print(list_of_tuples)\n"
   ]
  },
  {
   "cell_type": "markdown",
   "id": "f4421aef-e653-464f-afa9-4c18181c3bfa",
   "metadata": {},
   "source": [
    "Lab 3 Exercise 3\n",
    "\n",
    "Provide a list comprehension that is implementation for a function called vowelsToUpper with the following signature:\n",
    "\n",
    "method name: vowelsToUpper\n",
    "\n",
    "input argument: String\n",
    "\n",
    "return argument: String\n",
    "\n",
    "vowelsToUpper must return a version of its String argument with all its vowels changed to their uppercase forms. Nonvowel characters stay as is.\n",
    "\n",
    "Sample Calls\n",
    "\n",
    "vowels ToUpper \"\"==\"\"\n",
    "\n",
    "vowelsToUpper \"Hello, world!\" == \"HEIIO, wOrld!\"\n",
    "\n",
    "vowelsToUpper \"hello hi bye\" == \"hEIIO hl byE\""
   ]
  },
  {
   "cell_type": "code",
   "execution_count": 3,
   "id": "fb23f917-dd71-460b-831f-cb7182af1086",
   "metadata": {},
   "outputs": [
    {
     "name": "stdin",
     "output_type": "stream",
     "text": [
      "Enter a string:  hello, Philippines!\n"
     ]
    },
    {
     "name": "stdout",
     "output_type": "stream",
     "text": [
      "\n",
      "hEllO, PhIlIppInEs!\n"
     ]
    }
   ],
   "source": [
    "def vowelsToUpper(s):\n",
    "    return ''.join([char.upper() if char in 'aeiouAEIOU' else char for char in s])\n",
    "\n",
    "user_input = input(\"Enter a string: \")\n",
    "\n",
    "print()\n",
    "print(vowelsToUpper(user_input))\n"
   ]
  },
  {
   "cell_type": "code",
   "execution_count": null,
   "id": "83332abd-74a5-45e9-865b-2f551a709cb9",
   "metadata": {},
   "outputs": [],
   "source": []
  }
 ],
 "metadata": {
  "kernelspec": {
   "display_name": "Python 3 (ipykernel)",
   "language": "python",
   "name": "python3"
  },
  "language_info": {
   "codemirror_mode": {
    "name": "ipython",
    "version": 3
   },
   "file_extension": ".py",
   "mimetype": "text/x-python",
   "name": "python",
   "nbconvert_exporter": "python",
   "pygments_lexer": "ipython3",
   "version": "3.11.4"
  }
 },
 "nbformat": 4,
 "nbformat_minor": 5
}
